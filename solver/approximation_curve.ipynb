{
 "cells": [
  {
   "cell_type": "code",
   "execution_count": 1,
   "metadata": {},
   "outputs": [],
   "source": [
    "import numpy as np\n",
    "import pandas as pd\n",
    "from ast import literal_eval\n",
    "import matplotlib.pyplot as plt\n",
    "import collections"
   ]
  },
  {
   "cell_type": "code",
   "execution_count": 4,
   "metadata": {},
   "outputs": [],
   "source": [
    "df = pd.read_csv('../results/max_info_gain_rollout_results.csv')"
   ]
  },
  {
   "cell_type": "code",
   "execution_count": 3,
   "metadata": {},
   "outputs": [
    {
     "data": {
      "text/html": [
       "<div>\n",
       "<style scoped>\n",
       "    .dataframe tbody tr th:only-of-type {\n",
       "        vertical-align: middle;\n",
       "    }\n",
       "\n",
       "    .dataframe tbody tr th {\n",
       "        vertical-align: top;\n",
       "    }\n",
       "\n",
       "    .dataframe thead th {\n",
       "        text-align: right;\n",
       "    }\n",
       "</style>\n",
       "<table border=\"1\" class=\"dataframe\">\n",
       "  <thead>\n",
       "    <tr style=\"text-align: right;\">\n",
       "      <th></th>\n",
       "      <th>score_distribution</th>\n",
       "      <th>total_guesses</th>\n",
       "      <th>average_score</th>\n",
       "      <th>mystery_list_lengths</th>\n",
       "    </tr>\n",
       "  </thead>\n",
       "  <tbody>\n",
       "    <tr>\n",
       "      <th>0</th>\n",
       "      <td>[0, 25, 887, 1303, 97, 3]</td>\n",
       "      <td>8426</td>\n",
       "      <td>3.639741</td>\n",
       "      <td>[[2315, 61, 7, 1], [2315, 39, 1], [2315, 11, 1...</td>\n",
       "    </tr>\n",
       "    <tr>\n",
       "      <th>1</th>\n",
       "      <td>[0, 33, 873, 1316, 93]</td>\n",
       "      <td>8414</td>\n",
       "      <td>3.634557</td>\n",
       "      <td>[[2315, 3, 1], [2315, 42, 1], [2315, 71, 12, 1...</td>\n",
       "    </tr>\n",
       "    <tr>\n",
       "      <th>2</th>\n",
       "      <td>[1, 34, 867, 1298, 113, 2]</td>\n",
       "      <td>8439</td>\n",
       "      <td>3.645356</td>\n",
       "      <td>[[2315, 15, 3, 1], [2315, 3, 1], [2315, 29, 3,...</td>\n",
       "    </tr>\n",
       "  </tbody>\n",
       "</table>\n",
       "</div>"
      ],
      "text/plain": [
       "           score_distribution  total_guesses  average_score  \\\n",
       "0   [0, 25, 887, 1303, 97, 3]           8426       3.639741   \n",
       "1      [0, 33, 873, 1316, 93]           8414       3.634557   \n",
       "2  [1, 34, 867, 1298, 113, 2]           8439       3.645356   \n",
       "\n",
       "                                mystery_list_lengths  \n",
       "0  [[2315, 61, 7, 1], [2315, 39, 1], [2315, 11, 1...  \n",
       "1  [[2315, 3, 1], [2315, 42, 1], [2315, 71, 12, 1...  \n",
       "2  [[2315, 15, 3, 1], [2315, 3, 1], [2315, 29, 3,...  "
      ]
     },
     "execution_count": 3,
     "metadata": {},
     "output_type": "execute_result"
    }
   ],
   "source": [
    "df.head()"
   ]
  },
  {
   "cell_type": "code",
   "execution_count": 4,
   "metadata": {},
   "outputs": [],
   "source": [
    "temp = df.mystery_list_lengths.apply(literal_eval)"
   ]
  },
  {
   "cell_type": "code",
   "execution_count": 5,
   "metadata": {},
   "outputs": [
    {
     "data": {
      "text/plain": [
       "0    [[2315, 61, 7, 1], [2315, 39, 1], [2315, 11, 1...\n",
       "1    [[2315, 3, 1], [2315, 42, 1], [2315, 71, 12, 1...\n",
       "2    [[2315, 15, 3, 1], [2315, 3, 1], [2315, 29, 3,...\n",
       "Name: mystery_list_lengths, dtype: object"
      ]
     },
     "execution_count": 5,
     "metadata": {},
     "output_type": "execute_result"
    }
   ],
   "source": [
    "temp"
   ]
  },
  {
   "cell_type": "code",
   "execution_count": 6,
   "metadata": {},
   "outputs": [
    {
     "data": {
      "text/plain": [
       "[2315, 61, 7, 1]"
      ]
     },
     "execution_count": 6,
     "metadata": {},
     "output_type": "execute_result"
    }
   ],
   "source": [
    "temp[0][0]"
   ]
  },
  {
   "cell_type": "code",
   "execution_count": 7,
   "metadata": {},
   "outputs": [],
   "source": [
    "lengths = []\n",
    "scores = []\n",
    "\n",
    "for word_data in temp:\n",
    "    for game in word_data:\n",
    "        for i in range(len(game)):\n",
    "            lengths.append(game[i])\n",
    "            scores.append(len(game)-i)"
   ]
  },
  {
   "cell_type": "code",
   "execution_count": 8,
   "metadata": {},
   "outputs": [
    {
     "data": {
      "text/plain": [
       "25279"
      ]
     },
     "execution_count": 8,
     "metadata": {},
     "output_type": "execute_result"
    }
   ],
   "source": [
    "len(lengths)"
   ]
  },
  {
   "cell_type": "code",
   "execution_count": 9,
   "metadata": {},
   "outputs": [
    {
     "data": {
      "text/plain": [
       "25279"
      ]
     },
     "execution_count": 9,
     "metadata": {},
     "output_type": "execute_result"
    }
   ],
   "source": [
    "len(scores)"
   ]
  },
  {
   "cell_type": "code",
   "execution_count": 10,
   "metadata": {},
   "outputs": [
    {
     "data": {
      "image/png": "[encoded data removed]",
      "text/plain": [
       "<Figure size 432x288 with 1 Axes>"
      ]
     },
     "metadata": {
      "needs_background": "light"
     },
     "output_type": "display_data"
    }
   ],
   "source": [
    "curve = plt.plot(np.array(lengths), np.array(scores))\n",
    "plt.title('Length of Mystery List vs. Score')\n",
    "plt.xlabel('Length of Mystery List')\n",
    "plt.ylabel('Score')\n",
    "plt.show()"
   ]
  },
  {
   "cell_type": "code",
   "execution_count": 11,
   "metadata": {},
   "outputs": [],
   "source": [
    "data = curve[0].get_xydata()"
   ]
  },
  {
   "cell_type": "code",
   "execution_count": 14,
   "metadata": {},
   "outputs": [
    {
     "data": {
      "text/plain": [
       "25279"
      ]
     },
     "execution_count": 14,
     "metadata": {},
     "output_type": "execute_result"
    }
   ],
   "source": [
    "len(data)"
   ]
  },
  {
   "cell_type": "code",
   "execution_count": 32,
   "metadata": {},
   "outputs": [],
   "source": [
    "data_dict = {}\n",
    "for i in range(len(data)):\n",
    "    if data[i][0] not in data_dict:\n",
    "        data_dict[data[i][0]] = []\n",
    "        data_dict[data[i][0]].append(data[i][1])\n",
    "    else:\n",
    "        data_dict[data[i][0]].append(data[i][1])"
   ]
  },
  {
   "cell_type": "code",
   "execution_count": 34,
   "metadata": {},
   "outputs": [],
   "source": [
    "for key in data_dict:\n",
    "    data_dict[key] = np.mean(data_dict[key])"
   ]
  },
  {
   "cell_type": "code",
   "execution_count": 36,
   "metadata": {},
   "outputs": [],
   "source": [
    "data_dict = collections.OrderedDict(sorted(data_dict.items()))"
   ]
  },
  {
   "cell_type": "code",
   "execution_count": 38,
   "metadata": {},
   "outputs": [],
   "source": [
    "lengths = list(data_dict.keys())\n",
    "scores = list(data_dict.values())"
   ]
  },
  {
   "cell_type": "code",
   "execution_count": 39,
   "metadata": {},
   "outputs": [
    {
     "data": {
      "image/png": "[encoded data removed]",
      "text/plain": [
       "<Figure size 432x288 with 1 Axes>"
      ]
     },
     "metadata": {
      "needs_background": "light"
     },
     "output_type": "display_data"
    }
   ],
   "source": [
    "approximation_curve = plt.plot(np.array(lengths), np.array(scores))\n",
    "plt.title('Length of Mystery List vs. Score')\n",
    "plt.xlabel('Length of Mystery List')\n",
    "plt.ylabel('Score')\n",
    "plt.show()"
   ]
  },
  {
   "cell_type": "code",
   "execution_count": 40,
   "metadata": {},
   "outputs": [
    {
     "data": {
      "image/png": "[encoded data removed]",
      "text/plain": [
       "<Figure size 432x288 with 1 Axes>"
      ]
     },
     "metadata": {
      "needs_background": "light"
     },
     "output_type": "display_data"
    }
   ],
   "source": [
    "approximation_curve_limited = plt.plot(np.array(lengths), np.array(scores))\n",
    "plt.title('Length of Mystery List vs. Score')\n",
    "plt.xlabel('Length of Mystery List')\n",
    "plt.ylabel('Score')\n",
    "plt.xlim(0, 250)\n",
    "plt.show()"
   ]
  },
  {
   "cell_type": "code",
   "execution_count": 42,
   "metadata": {},
   "outputs": [],
   "source": [
    "final_data = approximation_curve[0].get_xydata()\n",
    "np.save('approximation_curve_data.npy', final_data)"
   ]
  }
 ],
 "metadata": {
  "interpreter": {
   "hash": "45adf837f02370db851ce831a6db73c8abd94b8276ada6c998b9c5e95075a9b2"
  },
  "kernelspec": {
   "display_name": "Python 3.8.13 ('wordle')",
   "language": "python",
   "name": "python3"
  },
  "language_info": {
   "codemirror_mode": {
    "name": "ipython",
    "version": 3
   },
   "file_extension": ".py",
   "mimetype": "text/x-python",
   "name": "python",
   "nbconvert_exporter": "python",
   "pygments_lexer": "ipython3",
   "version": "3.8.13"
  },
  "orig_nbformat": 4
 },
 "nbformat": 4,
 "nbformat_minor": 2
}
